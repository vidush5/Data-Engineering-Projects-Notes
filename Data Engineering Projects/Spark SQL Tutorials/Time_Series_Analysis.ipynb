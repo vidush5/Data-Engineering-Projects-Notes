{
 "cells": [
  {
   "cell_type": "code",
   "execution_count": 22,
   "metadata": {},
   "outputs": [],
   "source": [
    "from pyspark.sql import SparkSession"
   ]
  },
  {
   "cell_type": "code",
   "execution_count": 23,
   "metadata": {},
   "outputs": [],
   "source": [
    "spark = SparkSession.builder.getOrCreate()"
   ]
  },
  {
   "cell_type": "code",
   "execution_count": 24,
   "metadata": {},
   "outputs": [],
   "source": [
    "data_path = \"D:/DE Projects/Data-Engineering-Projects-Notes/Data Engineering Projects/Spark SQL Tutorials/Data\""
   ]
  },
  {
   "cell_type": "code",
   "execution_count": 25,
   "metadata": {},
   "outputs": [],
   "source": [
    "json_df2_path = data_path + \"/utilization.json\"\n",
    "df_util = spark.read.format(\"json\").load(json_df2_path)"
   ]
  },
  {
   "cell_type": "code",
   "execution_count": 26,
   "metadata": {},
   "outputs": [],
   "source": [
    "df_util.createOrReplaceTempView(\"utilization\")"
   ]
  },
  {
   "cell_type": "code",
   "execution_count": 27,
   "metadata": {},
   "outputs": [
    {
     "name": "stdout",
     "output_type": "stream",
     "text": [
      "+---------+--------------------+--------------------+-----------------------+\n",
      "|server_id|min(cpu_utilization)|max(cpu_utilization)|stddev(cpu_utilization)|\n",
      "+---------+--------------------+--------------------+-----------------------+\n",
      "|      103|                0.56|                0.96|    0.11617507884178278|\n",
      "|      104|                0.51|                0.91|    0.11521679513850511|\n",
      "|      106|                0.22|                0.62|    0.11531539914568226|\n",
      "|      100|                0.27|                0.67|     0.1152264191787964|\n",
      "|      105|                0.29|                0.69|    0.11510721467869486|\n",
      "|      101|                 0.6|                 1.0|    0.11651726263197697|\n",
      "|      102|                0.56|                0.96|    0.11549678751286807|\n",
      "|      112|                0.52|                0.92|    0.11528867845082576|\n",
      "|      113|                0.58|                0.98|    0.11544345150353687|\n",
      "|      110|                0.35|                0.75|    0.11533251724450215|\n",
      "|      107|                0.45|                0.85|    0.11597417369783877|\n",
      "|      111|                0.36|                0.76|    0.11530221569464506|\n",
      "|      108|                0.55|                0.95|    0.11563100171171926|\n",
      "|      109|                0.36|                0.76|    0.11574898623219722|\n",
      "|      119|                0.22|                0.62|    0.11516031929842008|\n",
      "|      116|                 0.3|                 0.7|    0.11506079722349302|\n",
      "|      114|                0.33|                0.73|    0.11510268816097273|\n",
      "|      115|                0.44|                0.84|    0.11569664615014985|\n",
      "|      120|                0.35|                0.75|    0.11586355920838642|\n",
      "|      118|                0.53|                0.93|    0.11474318421515234|\n",
      "+---------+--------------------+--------------------+-----------------------+\n",
      "only showing top 20 rows\n",
      "\n"
     ]
    }
   ],
   "source": [
    "spark.sql(\"SELECT server_id, min(cpu_utilization), max(cpu_utilization), stddev(cpu_utilization) \\\n",
    "    from utilization \\\n",
    "    group by server_id\").show()"
   ]
  },
  {
   "cell_type": "code",
   "execution_count": 28,
   "metadata": {},
   "outputs": [],
   "source": [
    "sql_window = spark.sql(\"SELECT event_datetime, server_id, cpu_utilization, avg(cpu_utilization) OVER (PARTITION BY server_id) abg_server_util FROM utilization\")"
   ]
  },
  {
   "cell_type": "code",
   "execution_count": 29,
   "metadata": {},
   "outputs": [
    {
     "name": "stdout",
     "output_type": "stream",
     "text": [
      "+-------------------+---------+---------------+------------------+\n",
      "|     event_datetime|server_id|cpu_utilization|   abg_server_util|\n",
      "+-------------------+---------+---------------+------------------+\n",
      "|03/05/2019 08:06:31|      110|           0.68|0.5537749999999892|\n",
      "|03/05/2019 08:11:31|      110|           0.58|0.5537749999999892|\n",
      "|03/05/2019 08:16:31|      110|           0.55|0.5537749999999892|\n",
      "|03/05/2019 08:21:31|      110|           0.63|0.5537749999999892|\n",
      "|03/05/2019 08:26:31|      110|           0.63|0.5537749999999892|\n",
      "|03/05/2019 08:31:31|      110|           0.71|0.5537749999999892|\n",
      "|03/05/2019 08:36:31|      110|           0.67|0.5537749999999892|\n",
      "|03/05/2019 08:41:31|      110|           0.55|0.5537749999999892|\n",
      "|03/05/2019 08:46:31|      110|           0.37|0.5537749999999892|\n",
      "|03/05/2019 08:51:31|      110|            0.7|0.5537749999999892|\n",
      "|03/05/2019 08:56:31|      110|           0.67|0.5537749999999892|\n",
      "|03/05/2019 09:01:31|      110|           0.56|0.5537749999999892|\n",
      "|03/05/2019 09:06:31|      110|           0.37|0.5537749999999892|\n",
      "|03/05/2019 09:11:31|      110|            0.6|0.5537749999999892|\n",
      "|03/05/2019 09:16:31|      110|           0.45|0.5537749999999892|\n",
      "|03/05/2019 09:21:31|      110|           0.65|0.5537749999999892|\n",
      "|03/05/2019 09:26:31|      110|           0.45|0.5537749999999892|\n",
      "|03/05/2019 09:31:31|      110|           0.67|0.5537749999999892|\n",
      "|03/05/2019 09:36:31|      110|            0.5|0.5537749999999892|\n",
      "|03/05/2019 09:41:31|      110|           0.53|0.5537749999999892|\n",
      "+-------------------+---------+---------------+------------------+\n",
      "only showing top 20 rows\n",
      "\n"
     ]
    }
   ],
   "source": [
    "sql_window.show()"
   ]
  },
  {
   "cell_type": "code",
   "execution_count": null,
   "metadata": {},
   "outputs": [],
   "source": []
  }
 ],
 "metadata": {
  "kernelspec": {
   "display_name": "base",
   "language": "python",
   "name": "python3"
  },
  "language_info": {
   "codemirror_mode": {
    "name": "ipython",
    "version": 3
   },
   "file_extension": ".py",
   "mimetype": "text/x-python",
   "name": "python",
   "nbconvert_exporter": "python",
   "pygments_lexer": "ipython3",
   "version": "3.9.7"
  },
  "orig_nbformat": 4
 },
 "nbformat": 4,
 "nbformat_minor": 2
}
