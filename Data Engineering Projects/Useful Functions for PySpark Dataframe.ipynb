{
 "cells": [
  {
   "cell_type": "markdown",
   "id": "11d10ccc",
   "metadata": {},
   "source": [
    "# 9 most useful functions for PySpark DataFrame"
   ]
  },
  {
   "cell_type": "markdown",
   "id": "dc048bb5",
   "metadata": {},
   "source": [
    "Article link = https://www.analyticsvidhya.com/blog/2021/05/9-most-useful-functions-for-pyspark-dataframe/"
   ]
  },
  {
   "cell_type": "code",
   "execution_count": 1,
   "id": "374a2ba0",
   "metadata": {},
   "outputs": [],
   "source": [
    "# Importing Sparksession\n",
    "from pyspark.sql import SparkSession"
   ]
  },
  {
   "cell_type": "code",
   "execution_count": 2,
   "id": "92ab8ff3",
   "metadata": {},
   "outputs": [],
   "source": [
    "# Creating a sparksession\n",
    "spark = SparkSession.builder.appName(\"PySparkdf\").getOrCreate()"
   ]
  },
  {
   "cell_type": "code",
   "execution_count": 3,
   "id": "efcc42fb",
   "metadata": {},
   "outputs": [],
   "source": [
    "df = spark.read.csv('Data/cereal.csv', inferSchema=True, header=True)"
   ]
  },
  {
   "cell_type": "code",
   "execution_count": 4,
   "id": "71673d32",
   "metadata": {},
   "outputs": [
    {
     "name": "stdout",
     "output_type": "stream",
     "text": [
      "root\n",
      " |-- name: string (nullable = true)\n",
      " |-- mfr: string (nullable = true)\n",
      " |-- type: string (nullable = true)\n",
      " |-- calories: integer (nullable = true)\n",
      " |-- protein: integer (nullable = true)\n",
      " |-- fat: integer (nullable = true)\n",
      " |-- sodium: integer (nullable = true)\n",
      " |-- fiber: double (nullable = true)\n",
      " |-- carbo: double (nullable = true)\n",
      " |-- sugars: integer (nullable = true)\n",
      " |-- potass: integer (nullable = true)\n",
      " |-- vitamins: integer (nullable = true)\n",
      " |-- shelf: integer (nullable = true)\n",
      " |-- weight: double (nullable = true)\n",
      " |-- cups: double (nullable = true)\n",
      " |-- rating: double (nullable = true)\n",
      "\n"
     ]
    }
   ],
   "source": [
    "df.printSchema()"
   ]
  },
  {
   "cell_type": "markdown",
   "id": "28434081",
   "metadata": {},
   "source": [
    "**select():** Helps to display a subset of selected columns from entire data frame"
   ]
  },
  {
   "cell_type": "code",
   "execution_count": 8,
   "id": "87a4826c",
   "metadata": {},
   "outputs": [
    {
     "name": "stdout",
     "output_type": "stream",
     "text": [
      "+--------------------+---+----+--------+\n",
      "|                name|mfr|type|calories|\n",
      "+--------------------+---+----+--------+\n",
      "|           100% Bran|  N|   C|      70|\n",
      "|   100% Natural Bran|  Q|   C|     120|\n",
      "|            All-Bran|  K|   C|      70|\n",
      "|All-Bran with Ext...|  K|   C|      50|\n",
      "|      Almond Delight|  R|   C|     110|\n",
      "|Apple Cinnamon Ch...|  G|   C|     110|\n",
      "|         Apple Jacks|  K|   C|     110|\n",
      "|             Basic 4|  G|   C|     130|\n",
      "|           Bran Chex|  R|   C|      90|\n",
      "|         Bran Flakes|  P|   C|      90|\n",
      "+--------------------+---+----+--------+\n",
      "only showing top 10 rows\n",
      "\n"
     ]
    }
   ],
   "source": [
    "# Selecting relavant columns\n",
    "df.select('name', 'mfr', 'type', 'calories').show(10)"
   ]
  },
  {
   "cell_type": "markdown",
   "id": "f4b091f2",
   "metadata": {},
   "source": [
    "**withColumn():** Used to manipulate a coloumn OR to create a new column with the existing column, It's a transformation function, so we can also change the datatype of any existing column"
   ]
  },
  {
   "cell_type": "code",
   "execution_count": 9,
   "id": "70349037",
   "metadata": {},
   "outputs": [
    {
     "name": "stdout",
     "output_type": "stream",
     "text": [
      "root\n",
      " |-- name: string (nullable = true)\n",
      " |-- mfr: string (nullable = true)\n",
      " |-- type: string (nullable = true)\n",
      " |-- Calories: integer (nullable = true)\n",
      " |-- protein: integer (nullable = true)\n",
      " |-- fat: integer (nullable = true)\n",
      " |-- sodium: integer (nullable = true)\n",
      " |-- fiber: double (nullable = true)\n",
      " |-- carbo: double (nullable = true)\n",
      " |-- sugars: integer (nullable = true)\n",
      " |-- potass: integer (nullable = true)\n",
      " |-- vitamins: integer (nullable = true)\n",
      " |-- shelf: integer (nullable = true)\n",
      " |-- weight: double (nullable = true)\n",
      " |-- cups: double (nullable = true)\n",
      " |-- rating: double (nullable = true)\n",
      "\n"
     ]
    }
   ],
   "source": [
    "# Change the datatype of calory column to integer\n",
    "df.withColumn(\"Calories\", df['calories'].cast(\"Integer\")).printSchema()"
   ]
  },
  {
   "cell_type": "markdown",
   "id": "43500cbf",
   "metadata": {},
   "source": [
    "**groupBy():** Used to collect the data into groups on DataFrame and allows us to perform aggregate functions on the grouped data"
   ]
  },
  {
   "cell_type": "code",
   "execution_count": 11,
   "id": "547d5770",
   "metadata": {},
   "outputs": [
    {
     "name": "stdout",
     "output_type": "stream",
     "text": [
      "+--------------------+--------+-----+\n",
      "|                name|calories|count|\n",
      "+--------------------+--------+-----+\n",
      "|Just Right Fruit ...|     140|    1|\n",
      "|         Raisin Bran|     120|    1|\n",
      "|Shredded Wheat sp...|      90|    1|\n",
      "|           Corn Pops|     110|    1|\n",
      "|  Honey Nut Cheerios|     110|    1|\n",
      "|Muesli Raisins; D...|     150|    1|\n",
      "|      Fruity Pebbles|     110|    1|\n",
      "|           100% Bran|      70|    1|\n",
      "|       Fruitful Bran|     120|    1|\n",
      "|         Puffed Rice|      50|    1|\n",
      "|      Raisin Squares|      90|    1|\n",
      "|   Total Raisin Bran|     140|    1|\n",
      "|      Golden Grahams|     110|    1|\n",
      "|   Nutri-grain Wheat|      90|    1|\n",
      "|   100% Natural Bran|     120|    1|\n",
      "|Apple Cinnamon Ch...|     110|    1|\n",
      "|Mueslix Crispy Blend|     160|    1|\n",
      "|Shredded Wheat 'n...|      90|    1|\n",
      "|              Smacks|     110|    1|\n",
      "|      Quaker Oatmeal|     100|    1|\n",
      "+--------------------+--------+-----+\n",
      "only showing top 20 rows\n",
      "\n"
     ]
    }
   ],
   "source": [
    "df.groupBy(\"name\", \"calories\").count().show()"
   ]
  },
  {
   "cell_type": "markdown",
   "id": "1e8e295f",
   "metadata": {},
   "source": [
    "**orderBy():** Sort the entire dataframe based on the particular column of the dataframe"
   ]
  },
  {
   "cell_type": "code",
   "execution_count": 12,
   "id": "354cb710",
   "metadata": {},
   "outputs": [
    {
     "name": "stdout",
     "output_type": "stream",
     "text": [
      "+--------------------+---+----+--------+-------+---+------+-----+-----+------+------+--------+-----+------+----+---------+\n",
      "|                name|mfr|type|calories|protein|fat|sodium|fiber|carbo|sugars|potass|vitamins|shelf|weight|cups|   rating|\n",
      "+--------------------+---+----+--------+-------+---+------+-----+-----+------+------+--------+-----+------+----+---------+\n",
      "|      Frosted Flakes|  K|   C|     110|      1|  0|   200|  1.0| 14.0|    11|    25|      25|    1|   1.0|0.75|31.435973|\n",
      "|        Cap'n'Crunch|  Q|   C|     120|      1|  2|   220|  0.0| 12.0|    12|    35|      25|    2|   1.0|0.75|18.042851|\n",
      "|Cinnamon Toast Cr...|  G|   C|     120|      1|  3|   210|  0.0| 13.0|     9|    45|      25|    2|   1.0|0.75|19.823573|\n",
      "|         Puffed Rice|  Q|   C|      50|      1|  0|     0|  0.0| 13.0|     0|    15|       0|    3|   0.5| 1.0|60.756112|\n",
      "|           Rice Chex|  R|   C|     110|      1|  0|   240|  0.0| 23.0|     2|    30|      25|    1|   1.0|1.13|41.998933|\n",
      "|                Trix|  G|   C|     110|      1|  1|   140|  0.0| 13.0|    12|    25|      25|    2|   1.0| 1.0|27.753301|\n",
      "|      Fruity Pebbles|  P|   C|     110|      1|  1|   135|  0.0| 13.0|    12|    25|      25|    2|   1.0|0.75|28.025765|\n",
      "|         Cocoa Puffs|  G|   C|     110|      1|  1|   180|  0.0| 12.0|    13|    55|      25|    2|   1.0| 1.0|22.736446|\n",
      "|      Golden Grahams|  G|   C|     110|      1|  1|   280|  0.0| 15.0|     9|    45|      25|    2|   1.0|0.75|23.804043|\n",
      "|           Corn Pops|  K|   C|     110|      1|  0|    90|  1.0| 13.0|    12|    20|      25|    2|   1.0| 1.0|35.782791|\n",
      "|    Honey Graham Ohs|  Q|   C|     120|      1|  2|   220|  1.0| 12.0|    11|    45|      25|    2|   1.0| 1.0|21.871292|\n",
      "|          Honey-comb|  P|   C|     110|      1|  0|   180|  0.0| 14.0|    11|    35|      25|    1|   1.0|1.33|28.742414|\n",
      "|       Count Chocula|  G|   C|     110|      1|  1|   180|  0.0| 12.0|    13|    65|      25|    2|   1.0| 1.0|22.396513|\n",
      "|         Froot Loops|  K|   C|     110|      2|  1|   125|  1.0| 11.0|    13|    30|      25|    2|   1.0| 1.0|32.207582|\n",
      "|             Crispix|  K|   C|     110|      2|  0|   220|  1.0| 21.0|     3|    30|      25|    3|   1.0| 1.0|46.895644|\n",
      "|Apple Cinnamon Ch...|  G|   C|     110|      2|  2|   180|  1.5| 10.5|    10|    70|      25|    1|   1.0|0.75|29.509541|\n",
      "|         Apple Jacks|  K|   C|     110|      2|  0|   125|  1.0| 11.0|    14|    30|      25|    2|   1.0| 1.0|33.174094|\n",
      "|Crispy Wheat & Ra...|  G|   C|     100|      2|  1|   140|  2.0| 11.0|    10|   120|      25|    3|   1.0|0.75|36.176196|\n",
      "|         Corn Flakes|  K|   C|     100|      2|  0|   290|  1.0| 21.0|     2|    35|      25|    1|   1.0| 1.0|45.863324|\n",
      "|           Bran Chex|  R|   C|      90|      2|  1|   200|  4.0| 15.0|     6|   125|      25|    1|   1.0|0.67|49.120253|\n",
      "+--------------------+---+----+--------+-------+---+------+-----+-----+------+------+--------+-----+------+----+---------+\n",
      "only showing top 20 rows\n",
      "\n"
     ]
    }
   ],
   "source": [
    "df.orderBy(\"protein\").show()"
   ]
  },
  {
   "cell_type": "markdown",
   "id": "5108dfac",
   "metadata": {},
   "source": [
    "**split():** Used to split a string column of dataframe into multiple columns. This Functions is applied to the dataframe with the help of withColumn() and select()"
   ]
  },
  {
   "cell_type": "code",
   "execution_count": 13,
   "id": "2de7d99d",
   "metadata": {},
   "outputs": [],
   "source": [
    "from pyspark.sql.functions import split"
   ]
  },
  {
   "cell_type": "code",
   "execution_count": 15,
   "id": "8c883974",
   "metadata": {},
   "outputs": [],
   "source": [
    "df1 = df.withColumn('Name1', split(df['name'], \" \").getItem(0))\\\n",
    "        .withColumn('Name2', split(df['name'], \" \").getItem(1))"
   ]
  },
  {
   "cell_type": "code",
   "execution_count": 16,
   "id": "6dff3881",
   "metadata": {},
   "outputs": [
    {
     "name": "stdout",
     "output_type": "stream",
     "text": [
      "+--------------------+------------+--------+\n",
      "|                name|       Name1|   Name2|\n",
      "+--------------------+------------+--------+\n",
      "|           100% Bran|        100%|    Bran|\n",
      "|   100% Natural Bran|        100%| Natural|\n",
      "|            All-Bran|    All-Bran|    null|\n",
      "|All-Bran with Ext...|    All-Bran|    with|\n",
      "|      Almond Delight|      Almond| Delight|\n",
      "|Apple Cinnamon Ch...|       Apple|Cinnamon|\n",
      "|         Apple Jacks|       Apple|   Jacks|\n",
      "|             Basic 4|       Basic|       4|\n",
      "|           Bran Chex|        Bran|    Chex|\n",
      "|         Bran Flakes|        Bran|  Flakes|\n",
      "|        Cap'n'Crunch|Cap'n'Crunch|    null|\n",
      "|            Cheerios|    Cheerios|    null|\n",
      "|Cinnamon Toast Cr...|    Cinnamon|   Toast|\n",
      "|            Clusters|    Clusters|    null|\n",
      "|         Cocoa Puffs|       Cocoa|   Puffs|\n",
      "|           Corn Chex|        Corn|    Chex|\n",
      "|         Corn Flakes|        Corn|  Flakes|\n",
      "|           Corn Pops|        Corn|    Pops|\n",
      "|       Count Chocula|       Count| Chocula|\n",
      "|  Cracklin' Oat Bran|   Cracklin'|     Oat|\n",
      "+--------------------+------------+--------+\n",
      "only showing top 20 rows\n",
      "\n"
     ]
    }
   ],
   "source": [
    "df1.select(\"name\", \"Name1\", \"Name2\").show()"
   ]
  },
  {
   "cell_type": "markdown",
   "id": "d912d514",
   "metadata": {},
   "source": [
    "**lit():** Used to add a new column to the dataframe that contains literals or some constant value"
   ]
  },
  {
   "cell_type": "code",
   "execution_count": 18,
   "id": "b1a66031",
   "metadata": {},
   "outputs": [],
   "source": [
    "from pyspark.sql.functions import lit\n",
    "\n",
    "df2 = df.select(\"name\", lit(\"75 gm\").alias(\"intake quantity\"))"
   ]
  },
  {
   "cell_type": "code",
   "execution_count": 19,
   "id": "51afe7c7",
   "metadata": {},
   "outputs": [
    {
     "name": "stdout",
     "output_type": "stream",
     "text": [
      "+--------------------+---------------+\n",
      "|                name|intake quantity|\n",
      "+--------------------+---------------+\n",
      "|           100% Bran|          75 gm|\n",
      "|   100% Natural Bran|          75 gm|\n",
      "|            All-Bran|          75 gm|\n",
      "|All-Bran with Ext...|          75 gm|\n",
      "|      Almond Delight|          75 gm|\n",
      "|Apple Cinnamon Ch...|          75 gm|\n",
      "|         Apple Jacks|          75 gm|\n",
      "|             Basic 4|          75 gm|\n",
      "|           Bran Chex|          75 gm|\n",
      "|         Bran Flakes|          75 gm|\n",
      "|        Cap'n'Crunch|          75 gm|\n",
      "|            Cheerios|          75 gm|\n",
      "|Cinnamon Toast Cr...|          75 gm|\n",
      "|            Clusters|          75 gm|\n",
      "|         Cocoa Puffs|          75 gm|\n",
      "|           Corn Chex|          75 gm|\n",
      "|         Corn Flakes|          75 gm|\n",
      "|           Corn Pops|          75 gm|\n",
      "|       Count Chocula|          75 gm|\n",
      "|  Cracklin' Oat Bran|          75 gm|\n",
      "+--------------------+---------------+\n",
      "only showing top 20 rows\n",
      "\n"
     ]
    }
   ],
   "source": [
    "df2.show()"
   ]
  },
  {
   "cell_type": "markdown",
   "id": "cecc49d4",
   "metadata": {},
   "source": [
    "**when():** Used to display the output based on the particular condition."
   ]
  },
  {
   "cell_type": "code",
   "execution_count": 20,
   "id": "099178af",
   "metadata": {},
   "outputs": [],
   "source": [
    "from pyspark.sql.functions import when"
   ]
  },
  {
   "cell_type": "code",
   "execution_count": 22,
   "id": "32b44bc6",
   "metadata": {},
   "outputs": [
    {
     "name": "stdout",
     "output_type": "stream",
     "text": [
      "+--------------------+----------------------------------------------------+\n",
      "|                name|CASE WHEN (vitamins >= 25) THEN rich in vitamins END|\n",
      "+--------------------+----------------------------------------------------+\n",
      "|           100% Bran|                                    rich in vitamins|\n",
      "|   100% Natural Bran|                                                null|\n",
      "|            All-Bran|                                    rich in vitamins|\n",
      "|All-Bran with Ext...|                                    rich in vitamins|\n",
      "|      Almond Delight|                                    rich in vitamins|\n",
      "|Apple Cinnamon Ch...|                                    rich in vitamins|\n",
      "|         Apple Jacks|                                    rich in vitamins|\n",
      "|             Basic 4|                                    rich in vitamins|\n",
      "|           Bran Chex|                                    rich in vitamins|\n",
      "|         Bran Flakes|                                    rich in vitamins|\n",
      "|        Cap'n'Crunch|                                    rich in vitamins|\n",
      "|            Cheerios|                                    rich in vitamins|\n",
      "|Cinnamon Toast Cr...|                                    rich in vitamins|\n",
      "|            Clusters|                                    rich in vitamins|\n",
      "|         Cocoa Puffs|                                    rich in vitamins|\n",
      "|           Corn Chex|                                    rich in vitamins|\n",
      "|         Corn Flakes|                                    rich in vitamins|\n",
      "|           Corn Pops|                                    rich in vitamins|\n",
      "|       Count Chocula|                                    rich in vitamins|\n",
      "|  Cracklin' Oat Bran|                                    rich in vitamins|\n",
      "+--------------------+----------------------------------------------------+\n",
      "only showing top 20 rows\n",
      "\n"
     ]
    }
   ],
   "source": [
    "df.select(\"name\",\n",
    "         when(df.vitamins >= \"25\", \"rich in vitamins\")).show()"
   ]
  },
  {
   "cell_type": "markdown",
   "id": "e85d7f23",
   "metadata": {},
   "source": [
    "**filter():** Used to filter data in rows based on the particular column values."
   ]
  },
  {
   "cell_type": "code",
   "execution_count": 23,
   "id": "6b93a939",
   "metadata": {},
   "outputs": [],
   "source": [
    "from pyspark.sql.functions import filter"
   ]
  },
  {
   "cell_type": "code",
   "execution_count": 24,
   "id": "85a1e799",
   "metadata": {},
   "outputs": [
    {
     "name": "stdout",
     "output_type": "stream",
     "text": [
      "+--------------------+---+----+--------+-------+---+------+-----+-----+------+------+--------+-----+------+----+---------+\n",
      "|                name|mfr|type|calories|protein|fat|sodium|fiber|carbo|sugars|potass|vitamins|shelf|weight|cups|   rating|\n",
      "+--------------------+---+----+--------+-------+---+------+-----+-----+------+------+--------+-----+------+----+---------+\n",
      "|         Corn Flakes|  K|   C|     100|      2|  0|   290|  1.0| 21.0|     2|    35|      25|    1|   1.0| 1.0|45.863324|\n",
      "|Cream of Wheat (Q...|  N|   H|     100|      3|  0|    80|  1.0| 21.0|     0|    -1|       0|    2|   1.0| 1.0|64.533816|\n",
      "|Crispy Wheat & Ra...|  G|   C|     100|      2|  1|   140|  2.0| 11.0|    10|   120|      25|    3|   1.0|0.75|36.176196|\n",
      "|         Double Chex|  R|   C|     100|      2|  0|   190|  1.0| 18.0|     5|    80|      25|    3|   1.0|0.75|44.330856|\n",
      "| Frosted Mini-Wheats|  K|   C|     100|      3|  0|     0|  3.0| 14.0|     7|   100|      25|    2|   1.0| 0.8|58.345141|\n",
      "|        Golden Crisp|  P|   C|     100|      2|  0|    45|  0.0| 11.0|    15|    40|      25|    1|   1.0|0.88|35.252444|\n",
      "|   Grape Nuts Flakes|  P|   C|     100|      3|  1|   140|  3.0| 15.0|     5|    85|      25|    3|   1.0|0.88|52.076897|\n",
      "|                Life|  Q|   C|     100|      4|  2|   150|  2.0| 12.0|     6|    95|      25|    2|   1.0|0.67|45.328074|\n",
      "|               Maypo|  A|   H|     100|      4|  1|     0|  0.0| 16.0|     3|    95|      25|    2|   1.0| 1.0|54.850917|\n",
      "|Multi-Grain Cheerios|  G|   C|     100|      2|  1|   220|  2.0| 15.0|     6|    90|      25|    1|   1.0| 1.0|40.105965|\n",
      "|          Product 19|  K|   C|     100|      3|  0|   320|  1.0| 20.0|     3|    45|     100|    3|   1.0| 1.0| 41.50354|\n",
      "|  Quaker Oat Squares|  Q|   C|     100|      4|  1|   135|  2.0| 14.0|     6|   110|      25|    3|   1.0| 0.5|49.511874|\n",
      "|      Quaker Oatmeal|  Q|   H|     100|      5|  2|     0|  2.7| -1.0|    -1|   110|       0|    1|   1.0|0.67|50.828392|\n",
      "|     Raisin Nut Bran|  G|   C|     100|      3|  2|   140|  2.5| 10.5|     8|   140|      25|    3|   1.0| 0.5|  39.7034|\n",
      "|   Total Whole Grain|  G|   C|     100|      3|  1|   200|  3.0| 16.0|     3|   110|     100|    3|   1.0| 1.0|46.658844|\n",
      "|          Wheat Chex|  R|   C|     100|      3|  1|   230|  3.0| 17.0|     3|   115|      25|    1|   1.0|0.67|49.787445|\n",
      "|            Wheaties|  G|   C|     100|      3|  1|   200|  3.0| 17.0|     3|   110|      25|    1|   1.0| 1.0|51.592193|\n",
      "+--------------------+---+----+--------+-------+---+------+-----+-----+------+------+--------+-----+------+----+---------+\n",
      "\n"
     ]
    }
   ],
   "source": [
    "df.filter(df.calories == \"100\").show()"
   ]
  },
  {
   "cell_type": "markdown",
   "id": "b384b9ae",
   "metadata": {},
   "source": [
    "**isNull()/isNotNull():** These two functions are used to find out if there is any null value present in the dataframe."
   ]
  },
  {
   "cell_type": "code",
   "execution_count": 25,
   "id": "00984b77",
   "metadata": {},
   "outputs": [],
   "source": [
    "from pyspark.sql.functions import *"
   ]
  },
  {
   "cell_type": "code",
   "execution_count": 26,
   "id": "68d500c6",
   "metadata": {},
   "outputs": [
    {
     "name": "stdout",
     "output_type": "stream",
     "text": [
      "+--------------------+---+----+--------+-------+---+------+-----+-----+------+------+--------+-----+------+----+---------+\n",
      "|                name|mfr|type|calories|protein|fat|sodium|fiber|carbo|sugars|potass|vitamins|shelf|weight|cups|   rating|\n",
      "+--------------------+---+----+--------+-------+---+------+-----+-----+------+------+--------+-----+------+----+---------+\n",
      "|           100% Bran|  N|   C|      70|      4|  1|   130| 10.0|  5.0|     6|   280|      25|    3|   1.0|0.33|68.402973|\n",
      "|   100% Natural Bran|  Q|   C|     120|      3|  5|    15|  2.0|  8.0|     8|   135|       0|    3|   1.0| 1.0|33.983679|\n",
      "|            All-Bran|  K|   C|      70|      4|  1|   260|  9.0|  7.0|     5|   320|      25|    3|   1.0|0.33|59.425505|\n",
      "|All-Bran with Ext...|  K|   C|      50|      4|  0|   140| 14.0|  8.0|     0|   330|      25|    3|   1.0| 0.5|93.704912|\n",
      "|      Almond Delight|  R|   C|     110|      2|  2|   200|  1.0| 14.0|     8|    -1|      25|    3|   1.0|0.75|34.384843|\n",
      "|Apple Cinnamon Ch...|  G|   C|     110|      2|  2|   180|  1.5| 10.5|    10|    70|      25|    1|   1.0|0.75|29.509541|\n",
      "|         Apple Jacks|  K|   C|     110|      2|  0|   125|  1.0| 11.0|    14|    30|      25|    2|   1.0| 1.0|33.174094|\n",
      "|             Basic 4|  G|   C|     130|      3|  2|   210|  2.0| 18.0|     8|   100|      25|    3|  1.33|0.75|37.038562|\n",
      "|           Bran Chex|  R|   C|      90|      2|  1|   200|  4.0| 15.0|     6|   125|      25|    1|   1.0|0.67|49.120253|\n",
      "|         Bran Flakes|  P|   C|      90|      3|  0|   210|  5.0| 13.0|     5|   190|      25|    3|   1.0|0.67|53.313813|\n",
      "|        Cap'n'Crunch|  Q|   C|     120|      1|  2|   220|  0.0| 12.0|    12|    35|      25|    2|   1.0|0.75|18.042851|\n",
      "|            Cheerios|  G|   C|     110|      6|  2|   290|  2.0| 17.0|     1|   105|      25|    1|   1.0|1.25|50.764999|\n",
      "|Cinnamon Toast Cr...|  G|   C|     120|      1|  3|   210|  0.0| 13.0|     9|    45|      25|    2|   1.0|0.75|19.823573|\n",
      "|            Clusters|  G|   C|     110|      3|  2|   140|  2.0| 13.0|     7|   105|      25|    3|   1.0| 0.5|40.400208|\n",
      "|         Cocoa Puffs|  G|   C|     110|      1|  1|   180|  0.0| 12.0|    13|    55|      25|    2|   1.0| 1.0|22.736446|\n",
      "|           Corn Chex|  R|   C|     110|      2|  0|   280|  0.0| 22.0|     3|    25|      25|    1|   1.0| 1.0|41.445019|\n",
      "|         Corn Flakes|  K|   C|     100|      2|  0|   290|  1.0| 21.0|     2|    35|      25|    1|   1.0| 1.0|45.863324|\n",
      "|           Corn Pops|  K|   C|     110|      1|  0|    90|  1.0| 13.0|    12|    20|      25|    2|   1.0| 1.0|35.782791|\n",
      "|       Count Chocula|  G|   C|     110|      1|  1|   180|  0.0| 12.0|    13|    65|      25|    2|   1.0| 1.0|22.396513|\n",
      "|  Cracklin' Oat Bran|  K|   C|     110|      3|  3|   140|  4.0| 10.0|     7|   160|      25|    3|   1.0| 0.5|40.448772|\n",
      "+--------------------+---+----+--------+-------+---+------+-----+-----+------+------+--------+-----+------+----+---------+\n",
      "only showing top 20 rows\n",
      "\n"
     ]
    }
   ],
   "source": [
    "# filter data by null values\n",
    "df.filter(df.name.isNotNull()).show()"
   ]
  },
  {
   "cell_type": "code",
   "execution_count": 27,
   "id": "8da7fbb0",
   "metadata": {},
   "outputs": [
    {
     "name": "stdout",
     "output_type": "stream",
     "text": [
      "+----+---+----+--------+-------+---+------+-----+-----+------+------+--------+-----+------+----+------+\n",
      "|name|mfr|type|calories|protein|fat|sodium|fiber|carbo|sugars|potass|vitamins|shelf|weight|cups|rating|\n",
      "+----+---+----+--------+-------+---+------+-----+-----+------+------+--------+-----+------+----+------+\n",
      "+----+---+----+--------+-------+---+------+-----+-----+------+------+--------+-----+------+----+------+\n",
      "\n"
     ]
    }
   ],
   "source": [
    "df.filter(df.name.isNull()).show()"
   ]
  },
  {
   "cell_type": "code",
   "execution_count": null,
   "id": "f9b2dcdc",
   "metadata": {},
   "outputs": [],
   "source": []
  }
 ],
 "metadata": {
  "kernelspec": {
   "display_name": "Python 3 (ipykernel)",
   "language": "python",
   "name": "python3"
  },
  "language_info": {
   "codemirror_mode": {
    "name": "ipython",
    "version": 3
   },
   "file_extension": ".py",
   "mimetype": "text/x-python",
   "name": "python",
   "nbconvert_exporter": "python",
   "pygments_lexer": "ipython3",
   "version": "3.9.7"
  }
 },
 "nbformat": 4,
 "nbformat_minor": 5
}
