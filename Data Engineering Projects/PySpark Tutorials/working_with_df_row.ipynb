{
 "cells": [
  {
   "cell_type": "code",
   "execution_count": 1,
   "metadata": {},
   "outputs": [],
   "source": [
    "# Import packages\n",
    "from pyspark.sql import *\n",
    "from pyspark.sql.functions import *\n",
    "from pyspark.sql.types import *"
   ]
  },
  {
   "cell_type": "code",
   "execution_count": 2,
   "metadata": {},
   "outputs": [],
   "source": [
    "# Function to get the dataframe, format and column name to change the data type\n",
    "\n",
    "def to_date_df(df, fmt, fld):\n",
    "    return df.withColumn(fld, to_date(col(fld), fmt))"
   ]
  },
  {
   "cell_type": "code",
   "execution_count": null,
   "metadata": {},
   "outputs": [],
   "source": [
    "# Creating a dataframe in PySpark\n",
    "from pyspark import SparkConf\n",
    "\n",
    "\n",
    "my_schema = StructType([\n",
    "    StructField(\"ID\", StringType()),\n",
    "    StructField(\"EventDate\", StringType())\n",
    "])\n",
    "\n",
    "my_rows = [Row(\"123\", \"04/05/2020\"), \n",
    "           Row(\"124\",\"4/5/2020\"),\n",
    "           Row(\"125\",\"04/5/2020\"),\n",
    "           Row(\"126\",\"4/05/2020\")]\n",
    "\n",
    "my_rdd = SparkConf.sparkContext.parallelize(my_rows, 2)\n",
    "my_df = SparkConf.createDataFrame(my_rdd, my_schema)"
   ]
  },
  {
   "cell_type": "code",
   "execution_count": null,
   "metadata": {},
   "outputs": [],
   "source": [
    "my_df.printSchema()\n",
    "my_df.show()\n",
    "new_df = to_date_df(my_df, \"M/d/y\", \"EventDate\")\n",
    "new_df.printSchema()\n",
    "new_df.show()"
   ]
  }
 ],
 "metadata": {
  "kernelspec": {
   "display_name": "env",
   "language": "python",
   "name": "python3"
  },
  "language_info": {
   "codemirror_mode": {
    "name": "ipython",
    "version": 3
   },
   "file_extension": ".py",
   "mimetype": "text/x-python",
   "name": "python",
   "nbconvert_exporter": "python",
   "pygments_lexer": "ipython3",
   "version": "3.9.7"
  },
  "orig_nbformat": 4
 },
 "nbformat": 4,
 "nbformat_minor": 2
}
